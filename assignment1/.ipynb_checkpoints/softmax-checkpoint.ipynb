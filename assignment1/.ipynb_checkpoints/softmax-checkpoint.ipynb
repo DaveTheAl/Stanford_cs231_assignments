{
 "cells": [
  {
   "cell_type": "markdown",
   "metadata": {},
   "source": [
    "# Softmax exercise\n",
    "\n",
    "*Complete and hand in this completed worksheet (including its outputs and any supporting code outside of the worksheet) with your assignment submission. For more details see the [assignments page](http://vision.stanford.edu/teaching/cs231n/assignments.html) on the course website.*\n",
    "\n",
    "This exercise is analogous to the SVM exercise. You will:\n",
    "\n",
    "- implement a fully-vectorized **loss function** for the Softmax classifier\n",
    "- implement the fully-vectorized expression for its **analytic gradient**\n",
    "- **check your implementation** with numerical gradient\n",
    "- use a validation set to **tune the learning rate and regularization** strength\n",
    "- **optimize** the loss function with **SGD**\n",
    "- **visualize** the final learned weights\n"
   ]
  },
  {
   "cell_type": "code",
   "execution_count": 8,
   "metadata": {
    "collapsed": false
   },
   "outputs": [
    {
     "name": "stdout",
     "output_type": "stream",
     "text": [
      "The autoreload extension is already loaded. To reload it, use:\n",
      "  %reload_ext autoreload\n"
     ]
    }
   ],
   "source": [
    "import random\n",
    "import numpy as np\n",
    "from cs231n.data_utils import load_CIFAR10\n",
    "import matplotlib.pyplot as plt\n",
    "%matplotlib inline\n",
    "plt.rcParams['figure.figsize'] = (10.0, 8.0) # set default size of plots\n",
    "plt.rcParams['image.interpolation'] = 'nearest'\n",
    "plt.rcParams['image.cmap'] = 'gray'\n",
    "\n",
    "# for auto-reloading extenrnal modules\n",
    "# see http://stackoverflow.com/questions/1907993/autoreload-of-modules-in-ipython\n",
    "%load_ext autoreload\n",
    "%autoreload 2"
   ]
  },
  {
   "cell_type": "code",
   "execution_count": 9,
   "metadata": {
    "collapsed": false
   },
   "outputs": [
    {
     "name": "stdout",
     "output_type": "stream",
     "text": [
      "Train data shape:  (49000, 3073)\n",
      "Train labels shape:  (49000,)\n",
      "Validation data shape:  (1000, 3073)\n",
      "Validation labels shape:  (1000,)\n",
      "Test data shape:  (1000, 3073)\n",
      "Test labels shape:  (1000,)\n",
      "dev data shape:  (500, 3073)\n",
      "dev labels shape:  (500,)\n"
     ]
    }
   ],
   "source": [
    "def get_CIFAR10_data(num_training=49000, num_validation=1000, num_test=1000, num_dev=500):\n",
    "  \"\"\"\n",
    "  Load the CIFAR-10 dataset from disk and perform preprocessing to prepare\n",
    "  it for the linear classifier. These are the same steps as we used for the\n",
    "  SVM, but condensed to a single function.  \n",
    "  \"\"\"\n",
    "  # Load the raw CIFAR-10 data\n",
    "  cifar10_dir = 'cs231n/datasets/cifar-10-batches-py'\n",
    "  X_train, y_train, X_test, y_test = load_CIFAR10(cifar10_dir)\n",
    "  \n",
    "  # subsample the data\n",
    "  mask = range(num_training, num_training + num_validation)\n",
    "  X_val = X_train[mask]\n",
    "  y_val = y_train[mask]\n",
    "  mask = range(num_training)\n",
    "  X_train = X_train[mask]\n",
    "  y_train = y_train[mask]\n",
    "  mask = range(num_test)\n",
    "  X_test = X_test[mask]\n",
    "  y_test = y_test[mask]\n",
    "  mask = np.random.choice(num_training, num_dev, replace=False)\n",
    "  X_dev = X_train[mask]\n",
    "  y_dev = y_train[mask]\n",
    "  \n",
    "  # Preprocessing: reshape the image data into rows\n",
    "  X_train = np.reshape(X_train, (X_train.shape[0], -1))\n",
    "  X_val = np.reshape(X_val, (X_val.shape[0], -1))\n",
    "  X_test = np.reshape(X_test, (X_test.shape[0], -1))\n",
    "  X_dev = np.reshape(X_dev, (X_dev.shape[0], -1))\n",
    "  \n",
    "  # Normalize the data: subtract the mean image\n",
    "  mean_image = np.mean(X_train, axis = 0)\n",
    "  X_train -= mean_image\n",
    "  X_val -= mean_image\n",
    "  X_test -= mean_image\n",
    "  X_dev -= mean_image\n",
    "  \n",
    "  # add bias dimension and transform into columns\n",
    "  X_train = np.hstack([X_train, np.ones((X_train.shape[0], 1))])\n",
    "  X_val = np.hstack([X_val, np.ones((X_val.shape[0], 1))])\n",
    "  X_test = np.hstack([X_test, np.ones((X_test.shape[0], 1))])\n",
    "  X_dev = np.hstack([X_dev, np.ones((X_dev.shape[0], 1))])\n",
    "  \n",
    "  return X_train, y_train, X_val, y_val, X_test, y_test, X_dev, y_dev\n",
    "\n",
    "\n",
    "# Invoke the above function to get our data.\n",
    "X_train, y_train, X_val, y_val, X_test, y_test, X_dev, y_dev = get_CIFAR10_data()\n",
    "print 'Train data shape: ', X_train.shape\n",
    "print 'Train labels shape: ', y_train.shape\n",
    "print 'Validation data shape: ', X_val.shape\n",
    "print 'Validation labels shape: ', y_val.shape\n",
    "print 'Test data shape: ', X_test.shape\n",
    "print 'Test labels shape: ', y_test.shape\n",
    "print 'dev data shape: ', X_dev.shape\n",
    "print 'dev labels shape: ', y_dev.shape"
   ]
  },
  {
   "cell_type": "markdown",
   "metadata": {},
   "source": [
    "## Softmax Classifier\n",
    "\n",
    "Your code for this section will all be written inside **cs231n/classifiers/softmax.py**. \n"
   ]
  },
  {
   "cell_type": "code",
   "execution_count": 10,
   "metadata": {
    "collapsed": false
   },
   "outputs": [
    {
     "name": "stdout",
     "output_type": "stream",
     "text": [
      "loss: 2.367946\n",
      "sanity check: 2.302585\n"
     ]
    }
   ],
   "source": [
    "# First implement the naive softmax loss function with nested loops.\n",
    "# Open the file cs231n/classifiers/softmax.py and implement the\n",
    "# softmax_loss_naive function.\n",
    "\n",
    "from cs231n.classifiers.softmax import softmax_loss_naive\n",
    "import time\n",
    "\n",
    "# Generate a random softmax weight matrix and use it to compute the loss.\n",
    "W = np.random.randn(3073, 10) * 0.0001\n",
    "loss, grad = softmax_loss_naive(W, X_dev, y_dev, 0.0)\n",
    "\n",
    "# As a rough sanity check, our loss should be something close to -log(0.1).\n",
    "print 'loss: %f' % loss\n",
    "print 'sanity check: %f' % (-np.log(0.1))"
   ]
  },
  {
   "cell_type": "markdown",
   "metadata": {},
   "source": [
    "## Inline Question 1:\n",
    "Why do we expect our loss to be close to -log(0.1)? Explain briefly.**\n",
    "\n",
    "**Your answer:** *That is an excellent question. Because the probability will always be between 0 and 1. And because without training we assume (random) matrix weights to assign each class about the same number of correct assignments.*\n"
   ]
  },
  {
   "cell_type": "code",
   "execution_count": 11,
   "metadata": {
    "collapsed": false
   },
   "outputs": [
    {
     "name": "stdout",
     "output_type": "stream",
     "text": [
      "numerical: 0.528080 analytic: 0.528080, relative error: 2.594541e-08\n",
      "numerical: 0.838572 analytic: 0.838572, relative error: 5.028113e-08\n",
      "numerical: 3.852817 analytic: 3.852817, relative error: 1.059139e-08\n",
      "numerical: -0.276962 analytic: -0.276962, relative error: 2.381060e-07\n",
      "numerical: 1.311879 analytic: 1.311878, relative error: 2.081494e-08\n",
      "numerical: -1.880009 analytic: -1.880009, relative error: 1.202730e-08\n",
      "numerical: -0.107890 analytic: -0.107890, relative error: 2.060142e-07\n",
      "numerical: 2.407882 analytic: 2.407882, relative error: 2.713325e-08\n",
      "numerical: -1.401912 analytic: -1.401912, relative error: 1.291513e-08\n",
      "numerical: -0.989357 analytic: -0.989357, relative error: 4.754047e-08\n",
      "numerical: 3.880641 analytic: 3.880641, relative error: 2.116564e-09\n",
      "numerical: 2.415730 analytic: 2.415730, relative error: 6.463533e-09\n",
      "numerical: -1.101311 analytic: -1.101311, relative error: 3.574671e-08\n",
      "numerical: 1.266893 analytic: 1.266893, relative error: 2.578701e-08\n",
      "numerical: 2.538522 analytic: 2.538522, relative error: 8.629246e-09\n",
      "numerical: -1.490983 analytic: -1.490983, relative error: 1.467180e-08\n",
      "numerical: 0.105720 analytic: 0.105720, relative error: 2.442447e-08\n",
      "numerical: 1.733449 analytic: 1.733449, relative error: 4.215728e-08\n",
      "numerical: -3.226107 analytic: -3.226107, relative error: 2.412469e-08\n",
      "numerical: -0.439804 analytic: -0.439804, relative error: 3.612823e-08\n"
     ]
    }
   ],
   "source": [
    "# Complete the implementation of softmax_loss_naive and implement a (naive)\n",
    "# version of the gradient that uses nested loops.\n",
    "loss, grad = softmax_loss_naive(W, X_dev, y_dev, 0.0)\n",
    "\n",
    "# As we did for the SVM, use numeric gradient checking as a debugging tool.\n",
    "# The numeric gradient should be close to the analytic gradient.\n",
    "from cs231n.gradient_check import grad_check_sparse\n",
    "f = lambda w: softmax_loss_naive(w, X_dev, y_dev, 0.0)[0]\n",
    "grad_numerical = grad_check_sparse(f, W, grad, 10)\n",
    "\n",
    "# similar to SVM case, do another gradient check with regularization\n",
    "loss, grad = softmax_loss_naive(W, X_dev, y_dev, 1e2)\n",
    "f = lambda w: softmax_loss_naive(w, X_dev, y_dev, 1e2)[0]\n",
    "grad_numerical = grad_check_sparse(f, W, grad, 10)"
   ]
  },
  {
   "cell_type": "code",
   "execution_count": 12,
   "metadata": {
    "collapsed": false
   },
   "outputs": [
    {
     "name": "stdout",
     "output_type": "stream",
     "text": [
      "naive loss: 2.367946e+00 computed in 0.074209s\n",
      "vectorized loss: 2.367946e+00 computed in 0.009073s\n",
      "Loss difference: 0.000000\n",
      "Gradient difference: 0.000000\n"
     ]
    }
   ],
   "source": [
    "# Now that we have a naive implementation of the softmax loss function and its gradient,\n",
    "# implement a vectorized version in softmax_loss_vectorized.\n",
    "# The two versions should compute the same results, but the vectorized version should be\n",
    "# much faster.\n",
    "tic = time.time()\n",
    "loss_naive, grad_naive = softmax_loss_naive(W, X_dev, y_dev, 0.00001)\n",
    "toc = time.time()\n",
    "print 'naive loss: %e computed in %fs' % (loss_naive, toc - tic)\n",
    "\n",
    "from cs231n.classifiers.softmax import softmax_loss_vectorized\n",
    "tic = time.time()\n",
    "loss_vectorized, grad_vectorized = softmax_loss_vectorized(W, X_dev, y_dev, 0.00001)\n",
    "toc = time.time()\n",
    "print 'vectorized loss: %e computed in %fs' % (loss_vectorized, toc - tic)\n",
    "\n",
    "# As we did for the SVM, we use the Frobenius norm to compare the two versions\n",
    "# of the gradient.\n",
    "grad_difference = np.linalg.norm(grad_naive - grad_vectorized, ord='fro')\n",
    "print 'Loss difference: %f' % np.abs(loss_naive - loss_vectorized)\n",
    "print 'Gradient difference: %f' % grad_difference"
   ]
  },
  {
   "cell_type": "code",
   "execution_count": 14,
   "metadata": {
    "collapsed": false
   },
   "outputs": [
    {
     "name": "stdout",
     "output_type": "stream",
     "text": [
      "lr 1.000000e-10 reg 1.000000e-03 train accuracy: 0.093000 val accuracy: 0.093000\n",
      "lr 1.000000e-10 reg 1.000000e-02 train accuracy: 0.090306 val accuracy: 0.089000\n",
      "lr 1.000000e-10 reg 1.000000e-01 train accuracy: 0.103898 val accuracy: 0.108000\n",
      "lr 1.000000e-10 reg 1.000000e+00 train accuracy: 0.115388 val accuracy: 0.110000\n",
      "lr 1.000000e-10 reg 1.000000e+01 train accuracy: 0.081224 val accuracy: 0.091000\n",
      "lr 1.000000e-10 reg 1.000000e+02 train accuracy: 0.086041 val accuracy: 0.081000\n",
      "lr 1.000000e-10 reg 1.000000e+03 train accuracy: 0.099367 val accuracy: 0.097000\n",
      "lr 1.000000e-10 reg 1.000000e+04 train accuracy: 0.098469 val accuracy: 0.098000\n",
      "lr 1.000000e-10 reg 1.000000e+05 train accuracy: 0.094959 val accuracy: 0.097000\n",
      "lr 1.000000e-10 reg 1.000000e+06 train accuracy: 0.099714 val accuracy: 0.086000\n",
      "lr 1.778279e-09 reg 1.000000e-03 train accuracy: 0.091265 val accuracy: 0.078000\n",
      "lr 1.778279e-09 reg 1.000000e-02 train accuracy: 0.127184 val accuracy: 0.120000\n",
      "lr 1.778279e-09 reg 1.000000e-01 train accuracy: 0.118837 val accuracy: 0.113000\n",
      "lr 1.778279e-09 reg 1.000000e+00 train accuracy: 0.085000 val accuracy: 0.102000\n",
      "lr 1.778279e-09 reg 1.000000e+01 train accuracy: 0.102571 val accuracy: 0.118000\n",
      "lr 1.778279e-09 reg 1.000000e+02 train accuracy: 0.073490 val accuracy: 0.074000\n",
      "lr 1.778279e-09 reg 1.000000e+03 train accuracy: 0.123122 val accuracy: 0.114000\n",
      "lr 1.778279e-09 reg 1.000000e+04 train accuracy: 0.126612 val accuracy: 0.117000\n",
      "lr 1.778279e-09 reg 1.000000e+05 train accuracy: 0.118816 val accuracy: 0.126000\n",
      "lr 1.778279e-09 reg 1.000000e+06 train accuracy: 0.101347 val accuracy: 0.110000\n",
      "lr 3.162278e-08 reg 1.000000e-03 train accuracy: 0.152980 val accuracy: 0.154000\n",
      "lr 3.162278e-08 reg 1.000000e-02 train accuracy: 0.169776 val accuracy: 0.180000\n",
      "lr 3.162278e-08 reg 1.000000e-01 train accuracy: 0.134041 val accuracy: 0.137000\n",
      "lr 3.162278e-08 reg 1.000000e+00 train accuracy: 0.152286 val accuracy: 0.157000\n",
      "lr 3.162278e-08 reg 1.000000e+01 train accuracy: 0.146510 val accuracy: 0.131000\n",
      "lr 3.162278e-08 reg 1.000000e+02 train accuracy: 0.142449 val accuracy: 0.160000\n",
      "lr 3.162278e-08 reg 1.000000e+03 train accuracy: 0.163041 val accuracy: 0.160000\n",
      "lr 3.162278e-08 reg 1.000000e+04 train accuracy: 0.157918 val accuracy: 0.169000\n",
      "lr 3.162278e-08 reg 1.000000e+05 train accuracy: 0.219653 val accuracy: 0.217000\n",
      "lr 3.162278e-08 reg 1.000000e+06 train accuracy: 0.251041 val accuracy: 0.265000\n",
      "lr 5.623413e-07 reg 1.000000e-03 train accuracy: 0.272959 val accuracy: 0.279000\n",
      "lr 5.623413e-07 reg 1.000000e-02 train accuracy: 0.272449 val accuracy: 0.280000\n",
      "lr 5.623413e-07 reg 1.000000e-01 train accuracy: 0.273837 val accuracy: 0.286000\n",
      "lr 5.623413e-07 reg 1.000000e+00 train accuracy: 0.271898 val accuracy: 0.290000\n",
      "lr 5.623413e-07 reg 1.000000e+01 train accuracy: 0.274041 val accuracy: 0.261000\n",
      "lr 5.623413e-07 reg 1.000000e+02 train accuracy: 0.275714 val accuracy: 0.264000\n",
      "lr 5.623413e-07 reg 1.000000e+03 train accuracy: 0.289102 val accuracy: 0.289000\n",
      "lr 5.623413e-07 reg 1.000000e+04 train accuracy: 0.364898 val accuracy: 0.376000\n",
      "lr 5.623413e-07 reg 1.000000e+05 train accuracy: 0.301143 val accuracy: 0.322000\n",
      "lr 5.623413e-07 reg 1.000000e+06 train accuracy: 0.232449 val accuracy: 0.236000\n",
      "lr 1.000000e-05 reg 1.000000e-03 train accuracy: 0.322388 val accuracy: 0.320000\n",
      "lr 1.000000e-05 reg 1.000000e-02 train accuracy: 0.343837 val accuracy: 0.336000\n",
      "lr 1.000000e-05 reg 1.000000e-01 train accuracy: 0.317592 val accuracy: 0.316000\n",
      "lr 1.000000e-05 reg 1.000000e+00 train accuracy: 0.314735 val accuracy: 0.296000\n",
      "lr 1.000000e-05 reg 1.000000e+01 train accuracy: 0.284612 val accuracy: 0.292000\n",
      "lr 1.000000e-05 reg 1.000000e+02 train accuracy: 0.300571 val accuracy: 0.301000\n",
      "lr 1.000000e-05 reg 1.000000e+03 train accuracy: 0.288122 val accuracy: 0.303000\n",
      "lr 1.000000e-05 reg 1.000000e+04 train accuracy: 0.184959 val accuracy: 0.194000\n",
      "lr 1.000000e-05 reg 1.000000e+05 train accuracy: 0.081122 val accuracy: 0.083000\n",
      "lr 1.000000e-05 reg 1.000000e+06 train accuracy: 0.100265 val accuracy: 0.087000\n",
      "best validation accuracy achieved during cross-validation: 0.376000\n"
     ]
    }
   ],
   "source": [
    "# Use the validation set to tune hyperparameters (regularization strength and\n",
    "# learning rate). You should experiment with different ranges for the learning\n",
    "# rates and regularization strengths; if you are careful you should be able to\n",
    "# get a classification accuracy of over 0.35 on the validation set.\n",
    "from cs231n.classifiers import Softmax\n",
    "results = {}\n",
    "best_val = -1\n",
    "best_softmax = None\n",
    "learning_rates = np.logspace(-10, -5, 5)\n",
    "regularization_strengths = np.logspace(-3, 6, 10)\n",
    "\n",
    "learning_rates = [5.6e-7]\n",
    "regularization_strengths = [1e4]\n",
    "\n",
    "################################################################################\n",
    "# TODO:                                                                        #\n",
    "# Use the validation set to set the learning rate and regularization strength. #\n",
    "# This should be identical to the validation that you did for the SVM; save    #\n",
    "# the best trained softmax classifer in best_softmax.                          #\n",
    "################################################################################\n",
    "for alpha in learning_rates:\n",
    "    for lam in regularization_strengths:\n",
    "        softmax = Softmax()\n",
    "        loss_hist = softmax.train(X_train, y_train, learning_rate=alpha, reg=lam,\n",
    "                          num_iters=2000, verbose=False)  #let it run longer with selected lr and reg\n",
    "        y_tr_pred = softmax.predict(X_train)\n",
    "        training_accuracy = float(np.mean(y_tr_pred == y_train))\n",
    "        y_cv_pred = softmax.predict(X_val)\n",
    "        cv_accuracy = float(np.mean(y_cv_pred == y_val))\n",
    "\n",
    "        results[(alpha, lam)] = (training_accuracy, cv_accuracy)\n",
    "        #getting many NaN over here... probably bcs of learning rate/regularization,\n",
    "        # didn't seem to have bugs (as also runs correctly and accuracy is predicted well)\n",
    "        if cv_accuracy > best_val:\n",
    "          best_val = cv_accuracy\n",
    "          best_softmax = softmax\n",
    "################################################################################\n",
    "#                              END OF YOUR CODE                                #\n",
    "################################################################################\n",
    "    \n",
    "# Print out results.\n",
    "for lr, reg in sorted(results):\n",
    "    train_accuracy, val_accuracy = results[(lr, reg)]\n",
    "    print 'lr %e reg %e train accuracy: %f val accuracy: %f' % (\n",
    "                lr, reg, train_accuracy, val_accuracy)\n",
    "    \n",
    "print 'best validation accuracy achieved during cross-validation: %f' % best_val"
   ]
  },
  {
   "cell_type": "code",
   "execution_count": 15,
   "metadata": {
    "collapsed": false
   },
   "outputs": [
    {
     "name": "stdout",
     "output_type": "stream",
     "text": [
      "softmax on raw pixels final test set accuracy: 0.358000\n"
     ]
    }
   ],
   "source": [
    "# evaluate on test set\n",
    "# Evaluate the best softmax on test set\n",
    "y_test_pred = best_softmax.predict(X_test)\n",
    "test_accuracy = np.mean(y_test == y_test_pred)\n",
    "print 'softmax on raw pixels final test set accuracy: %f' % (test_accuracy, )"
   ]
  },
  {
   "cell_type": "code",
   "execution_count": 16,
   "metadata": {
    "collapsed": false
   },
   "outputs": [
    {
     "data": {
      "image/png": "[encoded data removed]",
      "text/plain": [
       "<matplotlib.figure.Figure at 0x10df5bbd0>"
      ]
     },
     "metadata": {},
     "output_type": "display_data"
    }
   ],
   "source": [
    "# Visualize the learned weights for each class\n",
    "w = best_softmax.W[:-1,:] # strip out the bias\n",
    "w = w.reshape(32, 32, 3, 10)\n",
    "\n",
    "w_min, w_max = np.min(w), np.max(w)\n",
    "\n",
    "classes = ['plane', 'car', 'bird', 'cat', 'deer', 'dog', 'frog', 'horse', 'ship', 'truck']\n",
    "for i in xrange(10):\n",
    "  plt.subplot(2, 5, i + 1)\n",
    "  \n",
    "  # Rescale the weights to be between 0 and 255\n",
    "  wimg = 255.0 * (w[:, :, :, i].squeeze() - w_min) / (w_max - w_min)\n",
    "  plt.imshow(wimg.astype('uint8'))\n",
    "  plt.axis('off')\n",
    "  plt.title(classes[i])"
   ]
  },
  {
   "cell_type": "code",
   "execution_count": null,
   "metadata": {
    "collapsed": true
   },
   "outputs": [],
   "source": []
  }
 ],
 "metadata": {
  "anaconda-cloud": {},
  "kernelspec": {
   "display_name": "Python [py27]",
   "language": "python",
   "name": "Python [py27]"
  },
  "language_info": {
   "codemirror_mode": {
    "name": "ipython",
    "version": 2
   },
   "file_extension": ".py",
   "mimetype": "text/x-python",
   "name": "python",
   "nbconvert_exporter": "python",
   "pygments_lexer": "ipython2",
   "version": "2.7.12"
  }
 },
 "nbformat": 4,
 "nbformat_minor": 0
}
